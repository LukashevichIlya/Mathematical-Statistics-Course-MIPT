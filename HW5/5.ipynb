{
 "cells": [
  {
   "cell_type": "markdown",
   "metadata": {},
   "source": [
    "# Линейная регрессия"
   ]
  },
  {
   "cell_type": "markdown",
   "metadata": {},
   "source": [
    "## Задача 1"
   ]
  },
  {
   "cell_type": "markdown",
   "metadata": {},
   "source": [
    "Загрузите данные из набора Forest Fires (файл forestfires.csv) о лесных пожарах в Португалии. Задача состоит в том, чтобы с помощью линейной регрессии научиться предсказывать координату area (площадь пожара) в виде линейной комбинации других данных. \n",
    "    \n",
    "\n",
    "Чтобы работать с числовыми координатами, нечисловые координаты (month, day) нужно перевести в числовые. Для простоты можно заменить координату month на индикатор летнего сезона, а координату day не использовать вообще. По желанию можно сделать преобразование другим способом. Также добавьте координату, тождественно равную единице (вес при этой координате  интерпретируется как сдвиг).\n",
    "\n",
    "Разбейте выборку на две части в соотношении 7:3 (перемешав её с помощью random.shuffle). По первой части постройте регрессионную модель. Примените модель ко второй части выборки и посчитайте по ней среднеквадратичную ошибку.\n",
    "\n",
    "Для переменной area выполните преобразование $f(x) = ln(x+c)$ и постройте для нее новую регрессионную модель. Посчитайте среднеквадратичную ошибку для преобразованных значений. При каком $c$ предсказания получаются лучше всего? \n",
    "\n",
    "При выбранном $c$ сделайте разбиение выборки в соотношении 7:3 разными способами (перемешивая каждый раз). Найдите способ оценить разброс качества от разбиения. Сильно ли меняется качество? Сделайте выводы."
   ]
  },
  {
   "cell_type": "markdown",
   "metadata": {},
   "source": [
    "### Теоретическая часть"
   ]
  },
  {
   "cell_type": "markdown",
   "metadata": {},
   "source": [
    "Оценка по методу наименьших квадратов имеет вид\n",
    "$$ \\theta^{*} = (Z^{T}Z)^{-1}Z^{T}X. $$\n",
    "Именно это формулу будем использовать для нахождения весов в линейной регрессионной модели."
   ]
  },
  {
   "cell_type": "markdown",
   "metadata": {},
   "source": [
    "### Решение"
   ]
  },
  {
   "cell_type": "code",
   "execution_count": 1,
   "metadata": {},
   "outputs": [],
   "source": [
    "#импортируем необходимые модули\n",
    "import numpy as np\n",
    "import pandas as pd\n",
    "import matplotlib.pyplot as plt\n",
    "import random\n",
    "from sklearn.model_selection import train_test_split\n",
    "%matplotlib inline"
   ]
  },
  {
   "cell_type": "code",
   "execution_count": 2,
   "metadata": {},
   "outputs": [],
   "source": [
    "#загрузим данные из файла forestfires.csv\n",
    "fires_data = pd.read_csv('forestfires.csv')"
   ]
  },
  {
   "cell_type": "code",
   "execution_count": 3,
   "metadata": {},
   "outputs": [
    {
     "data": {
      "text/html": [
       "<div>\n",
       "<style scoped>\n",
       "    .dataframe tbody tr th:only-of-type {\n",
       "        vertical-align: middle;\n",
       "    }\n",
       "\n",
       "    .dataframe tbody tr th {\n",
       "        vertical-align: top;\n",
       "    }\n",
       "\n",
       "    .dataframe thead th {\n",
       "        text-align: right;\n",
       "    }\n",
       "</style>\n",
       "<table border=\"1\" class=\"dataframe\">\n",
       "  <thead>\n",
       "    <tr style=\"text-align: right;\">\n",
       "      <th></th>\n",
       "      <th>X</th>\n",
       "      <th>Y</th>\n",
       "      <th>month</th>\n",
       "      <th>day</th>\n",
       "      <th>FFMC</th>\n",
       "      <th>DMC</th>\n",
       "      <th>DC</th>\n",
       "      <th>ISI</th>\n",
       "      <th>temp</th>\n",
       "      <th>RH</th>\n",
       "      <th>wind</th>\n",
       "      <th>rain</th>\n",
       "      <th>area</th>\n",
       "    </tr>\n",
       "  </thead>\n",
       "  <tbody>\n",
       "    <tr>\n",
       "      <th>0</th>\n",
       "      <td>7</td>\n",
       "      <td>5</td>\n",
       "      <td>mar</td>\n",
       "      <td>fri</td>\n",
       "      <td>86.2</td>\n",
       "      <td>26.2</td>\n",
       "      <td>94.3</td>\n",
       "      <td>5.1</td>\n",
       "      <td>8.2</td>\n",
       "      <td>51</td>\n",
       "      <td>6.7</td>\n",
       "      <td>0.0</td>\n",
       "      <td>0.0</td>\n",
       "    </tr>\n",
       "    <tr>\n",
       "      <th>1</th>\n",
       "      <td>7</td>\n",
       "      <td>4</td>\n",
       "      <td>oct</td>\n",
       "      <td>tue</td>\n",
       "      <td>90.6</td>\n",
       "      <td>35.4</td>\n",
       "      <td>669.1</td>\n",
       "      <td>6.7</td>\n",
       "      <td>18.0</td>\n",
       "      <td>33</td>\n",
       "      <td>0.9</td>\n",
       "      <td>0.0</td>\n",
       "      <td>0.0</td>\n",
       "    </tr>\n",
       "    <tr>\n",
       "      <th>2</th>\n",
       "      <td>7</td>\n",
       "      <td>4</td>\n",
       "      <td>oct</td>\n",
       "      <td>sat</td>\n",
       "      <td>90.6</td>\n",
       "      <td>43.7</td>\n",
       "      <td>686.9</td>\n",
       "      <td>6.7</td>\n",
       "      <td>14.6</td>\n",
       "      <td>33</td>\n",
       "      <td>1.3</td>\n",
       "      <td>0.0</td>\n",
       "      <td>0.0</td>\n",
       "    </tr>\n",
       "    <tr>\n",
       "      <th>3</th>\n",
       "      <td>8</td>\n",
       "      <td>6</td>\n",
       "      <td>mar</td>\n",
       "      <td>fri</td>\n",
       "      <td>91.7</td>\n",
       "      <td>33.3</td>\n",
       "      <td>77.5</td>\n",
       "      <td>9.0</td>\n",
       "      <td>8.3</td>\n",
       "      <td>97</td>\n",
       "      <td>4.0</td>\n",
       "      <td>0.2</td>\n",
       "      <td>0.0</td>\n",
       "    </tr>\n",
       "    <tr>\n",
       "      <th>4</th>\n",
       "      <td>8</td>\n",
       "      <td>6</td>\n",
       "      <td>mar</td>\n",
       "      <td>sun</td>\n",
       "      <td>89.3</td>\n",
       "      <td>51.3</td>\n",
       "      <td>102.2</td>\n",
       "      <td>9.6</td>\n",
       "      <td>11.4</td>\n",
       "      <td>99</td>\n",
       "      <td>1.8</td>\n",
       "      <td>0.0</td>\n",
       "      <td>0.0</td>\n",
       "    </tr>\n",
       "  </tbody>\n",
       "</table>\n",
       "</div>"
      ],
      "text/plain": [
       "   X  Y month  day  FFMC   DMC     DC  ISI  temp  RH  wind  rain  area\n",
       "0  7  5   mar  fri  86.2  26.2   94.3  5.1   8.2  51   6.7   0.0   0.0\n",
       "1  7  4   oct  tue  90.6  35.4  669.1  6.7  18.0  33   0.9   0.0   0.0\n",
       "2  7  4   oct  sat  90.6  43.7  686.9  6.7  14.6  33   1.3   0.0   0.0\n",
       "3  8  6   mar  fri  91.7  33.3   77.5  9.0   8.3  97   4.0   0.2   0.0\n",
       "4  8  6   mar  sun  89.3  51.3  102.2  9.6  11.4  99   1.8   0.0   0.0"
      ]
     },
     "execution_count": 3,
     "metadata": {},
     "output_type": "execute_result"
    }
   ],
   "source": [
    "#посмотрим на первые записи в данном файле\n",
    "fires_data.head()"
   ]
  },
  {
   "cell_type": "code",
   "execution_count": 4,
   "metadata": {},
   "outputs": [],
   "source": [
    "#функция для трансформации признака month (заменяем категориальный признак на индикатор летнего сезона)\n",
    "def month_tranform(month):\n",
    "    if (month == 'jun' or month == 'jul' or month == 'aug'):\n",
    "        return 1\n",
    "    else:\n",
    "        return 0"
   ]
  },
  {
   "cell_type": "code",
   "execution_count": 5,
   "metadata": {},
   "outputs": [],
   "source": [
    "#применяем функцию трансформации признака к данным\n",
    "fires_data['month'] = fires_data['month'].apply(month_tranform)"
   ]
  },
  {
   "cell_type": "code",
   "execution_count": 6,
   "metadata": {},
   "outputs": [],
   "source": [
    "#удаляем из данных признак дня недели\n",
    "fires_data = fires_data.drop(['day'], axis = 1)"
   ]
  },
  {
   "cell_type": "code",
   "execution_count": 7,
   "metadata": {},
   "outputs": [
    {
     "data": {
      "text/html": [
       "<div>\n",
       "<style scoped>\n",
       "    .dataframe tbody tr th:only-of-type {\n",
       "        vertical-align: middle;\n",
       "    }\n",
       "\n",
       "    .dataframe tbody tr th {\n",
       "        vertical-align: top;\n",
       "    }\n",
       "\n",
       "    .dataframe thead th {\n",
       "        text-align: right;\n",
       "    }\n",
       "</style>\n",
       "<table border=\"1\" class=\"dataframe\">\n",
       "  <thead>\n",
       "    <tr style=\"text-align: right;\">\n",
       "      <th></th>\n",
       "      <th>X</th>\n",
       "      <th>Y</th>\n",
       "      <th>month</th>\n",
       "      <th>FFMC</th>\n",
       "      <th>DMC</th>\n",
       "      <th>DC</th>\n",
       "      <th>ISI</th>\n",
       "      <th>temp</th>\n",
       "      <th>RH</th>\n",
       "      <th>wind</th>\n",
       "      <th>rain</th>\n",
       "      <th>area</th>\n",
       "    </tr>\n",
       "  </thead>\n",
       "  <tbody>\n",
       "    <tr>\n",
       "      <th>0</th>\n",
       "      <td>7</td>\n",
       "      <td>5</td>\n",
       "      <td>0</td>\n",
       "      <td>86.2</td>\n",
       "      <td>26.2</td>\n",
       "      <td>94.3</td>\n",
       "      <td>5.1</td>\n",
       "      <td>8.2</td>\n",
       "      <td>51</td>\n",
       "      <td>6.7</td>\n",
       "      <td>0.0</td>\n",
       "      <td>0.0</td>\n",
       "    </tr>\n",
       "    <tr>\n",
       "      <th>1</th>\n",
       "      <td>7</td>\n",
       "      <td>4</td>\n",
       "      <td>0</td>\n",
       "      <td>90.6</td>\n",
       "      <td>35.4</td>\n",
       "      <td>669.1</td>\n",
       "      <td>6.7</td>\n",
       "      <td>18.0</td>\n",
       "      <td>33</td>\n",
       "      <td>0.9</td>\n",
       "      <td>0.0</td>\n",
       "      <td>0.0</td>\n",
       "    </tr>\n",
       "    <tr>\n",
       "      <th>2</th>\n",
       "      <td>7</td>\n",
       "      <td>4</td>\n",
       "      <td>0</td>\n",
       "      <td>90.6</td>\n",
       "      <td>43.7</td>\n",
       "      <td>686.9</td>\n",
       "      <td>6.7</td>\n",
       "      <td>14.6</td>\n",
       "      <td>33</td>\n",
       "      <td>1.3</td>\n",
       "      <td>0.0</td>\n",
       "      <td>0.0</td>\n",
       "    </tr>\n",
       "    <tr>\n",
       "      <th>3</th>\n",
       "      <td>8</td>\n",
       "      <td>6</td>\n",
       "      <td>0</td>\n",
       "      <td>91.7</td>\n",
       "      <td>33.3</td>\n",
       "      <td>77.5</td>\n",
       "      <td>9.0</td>\n",
       "      <td>8.3</td>\n",
       "      <td>97</td>\n",
       "      <td>4.0</td>\n",
       "      <td>0.2</td>\n",
       "      <td>0.0</td>\n",
       "    </tr>\n",
       "    <tr>\n",
       "      <th>4</th>\n",
       "      <td>8</td>\n",
       "      <td>6</td>\n",
       "      <td>0</td>\n",
       "      <td>89.3</td>\n",
       "      <td>51.3</td>\n",
       "      <td>102.2</td>\n",
       "      <td>9.6</td>\n",
       "      <td>11.4</td>\n",
       "      <td>99</td>\n",
       "      <td>1.8</td>\n",
       "      <td>0.0</td>\n",
       "      <td>0.0</td>\n",
       "    </tr>\n",
       "  </tbody>\n",
       "</table>\n",
       "</div>"
      ],
      "text/plain": [
       "   X  Y  month  FFMC   DMC     DC  ISI  temp  RH  wind  rain  area\n",
       "0  7  5      0  86.2  26.2   94.3  5.1   8.2  51   6.7   0.0   0.0\n",
       "1  7  4      0  90.6  35.4  669.1  6.7  18.0  33   0.9   0.0   0.0\n",
       "2  7  4      0  90.6  43.7  686.9  6.7  14.6  33   1.3   0.0   0.0\n",
       "3  8  6      0  91.7  33.3   77.5  9.0   8.3  97   4.0   0.2   0.0\n",
       "4  8  6      0  89.3  51.3  102.2  9.6  11.4  99   1.8   0.0   0.0"
      ]
     },
     "execution_count": 7,
     "metadata": {},
     "output_type": "execute_result"
    }
   ],
   "source": [
    "#посмотрим на записи в уже изменненных данных\n",
    "fires_data.head()"
   ]
  },
  {
   "cell_type": "code",
   "execution_count": 8,
   "metadata": {},
   "outputs": [
    {
     "name": "stdout",
     "output_type": "stream",
     "text": [
      "Среднее значение целевого признака: 12.8472920696\n"
     ]
    }
   ],
   "source": [
    "#посмотрим на среднее значение значение целевого признака area\n",
    "print(\"Среднее значение целевого признака: {}\".format(fires_data['area'].mean()))"
   ]
  },
  {
   "cell_type": "code",
   "execution_count": 9,
   "metadata": {},
   "outputs": [],
   "source": [
    "#получим numpy массив данных из pandas dataframe\n",
    "data = np.array(fires_data.values[:, :])"
   ]
  },
  {
   "cell_type": "code",
   "execution_count": 10,
   "metadata": {},
   "outputs": [],
   "source": [
    "#добавим координату, тождественную равную единице\n",
    "size = np.shape(data)[0]\n",
    "ones = np.reshape(np.ones(size), (size, 1))\n",
    "\n",
    "data = np.hstack((ones, data))"
   ]
  },
  {
   "cell_type": "code",
   "execution_count": 11,
   "metadata": {},
   "outputs": [],
   "source": [
    "#перемешаем выборку\n",
    "random.shuffle(data)"
   ]
  },
  {
   "cell_type": "code",
   "execution_count": 12,
   "metadata": {},
   "outputs": [],
   "source": [
    "#создадим массивы X и y, где X - выборка, y - признак area\n",
    "X = np.array(data[:, 0:12])\n",
    "y = np.array(data[:, 12])"
   ]
  },
  {
   "cell_type": "code",
   "execution_count": 13,
   "metadata": {},
   "outputs": [],
   "source": [
    "#разобьем данные на две части: train и test в отношении 7:3\n",
    "(X_train, X_test, y_train, y_test) = train_test_split(X, y, test_size = 0.3)"
   ]
  },
  {
   "cell_type": "code",
   "execution_count": 14,
   "metadata": {},
   "outputs": [],
   "source": [
    "#функция для нахождения оптимальных параметров линейной регрессионой модели\n",
    "def optimal_parameters(X, y):\n",
    "    return np.linalg.solve(np.dot(X.transpose(), X), np.dot(X.transpose(), y))"
   ]
  },
  {
   "cell_type": "code",
   "execution_count": 15,
   "metadata": {},
   "outputs": [],
   "source": [
    "#находим оптимальные веса модели\n",
    "theta = optimal_parameters(X_train, y_train)"
   ]
  },
  {
   "cell_type": "code",
   "execution_count": 16,
   "metadata": {},
   "outputs": [],
   "source": [
    "#находим предсказанные значения площади area на тестовой выборке\n",
    "y_pred = np.dot(X_test, theta)"
   ]
  },
  {
   "cell_type": "code",
   "execution_count": 17,
   "metadata": {},
   "outputs": [],
   "source": [
    "#функция для нахождения среднеквадратичной ошибки прогноза\n",
    "def mean_squared_error(y, y_pred):\n",
    "    return np.mean((y - y_pred) ** 2)"
   ]
  },
  {
   "cell_type": "code",
   "execution_count": 18,
   "metadata": {},
   "outputs": [
    {
     "name": "stdout",
     "output_type": "stream",
     "text": [
      "Среднеквадратичная ошибка проноза линейного регрессионной модели: 585.413292297\n",
      "Среднеквадратичное отклонение: 24.1953155032\n"
     ]
    }
   ],
   "source": [
    "print(\"Среднеквадратичная ошибка проноза линейного регрессионной модели: {}\".format(mean_squared_error(y_pred, y_test))) \n",
    "print(\"Среднеквадратичное отклонение: {}\".format(np.sqrt(mean_squared_error(y_pred, y_test)))) "
   ]
  },
  {
   "cell_type": "code",
   "execution_count": 19,
   "metadata": {},
   "outputs": [],
   "source": [
    "#функция для применения указанного преобразования признака area\n",
    "def transform_area(area, constant):\n",
    "    return np.log(area + constant)"
   ]
  },
  {
   "cell_type": "code",
   "execution_count": 20,
   "metadata": {},
   "outputs": [],
   "source": [
    "#функция для получения ошибок прогноза в зависимости от константы в преобразовании признака area\n",
    "def get_error_depend_on_c(X_train, X_test, y_train, y_test, constants):\n",
    "    errors = np.array([])\n",
    "    \n",
    "    for const in constants:\n",
    "        y_train_curr = transform_area(y_train, const)\n",
    "        #y_test_curr = transform_area(y_test, const)\n",
    "        theta = optimal_parameters(X_train, y_train_curr)\n",
    "        predictions = np.dot(X_test, theta)\n",
    "        inv_transform_predictions = np.exp(predictions) - const\n",
    "        errors = np.append(errors, mean_squared_error(y_test, inv_transform_predictions))\n",
    "    \n",
    "    return errors"
   ]
  },
  {
   "cell_type": "code",
   "execution_count": 21,
   "metadata": {},
   "outputs": [
    {
     "data": {
      "image/png": "[encoded data removed]",
      "text/plain": [
       "<Figure size 864x504 with 1 Axes>"
      ]
     },
     "metadata": {
      "needs_background": "light"
     },
     "output_type": "display_data"
    }
   ],
   "source": [
    "#находим массив ошибок в зависимости от константы в преобразовании признака area\n",
    "constants = np.linspace(0.1, 10000, 10000)\n",
    "errors = get_error_depend_on_c(X_train, X_test, y_train, y_test, constants)\n",
    "\n",
    "#строим график зависимости среднеквадратичной ошибки прогноза от константы в преобразовании признака area\n",
    "plt.figure(figsize = (12, 7))\n",
    "plt.plot(errors, marker = 'o', linestyle = 'none', markersize = '3', alpha = 0.3, color = 'g', label = 'MSE')\n",
    "plt.title(r'Dependency of MSE from the constant $c$ in transformation of area $f(x) = \\ln{(x + c)}$', fontsize = 18)\n",
    "plt.xlabel('Constant in transformation', fontsize = 14)\n",
    "plt.ylabel('Mean squared error', fontsize = 14)\n",
    "plt.legend(fontsize = 14)\n",
    "plt.grid()\n",
    "plt.show()"
   ]
  },
  {
   "cell_type": "code",
   "execution_count": 22,
   "metadata": {},
   "outputs": [
    {
     "name": "stdout",
     "output_type": "stream",
     "text": [
      "56.1050405040504\n"
     ]
    }
   ],
   "source": [
    "#находим оптимальное значение константы при трансформации признака area\n",
    "optimal_const = constants[np.argwhere(errors == errors.min())[0][0]]\n",
    "print optimal_const"
   ]
  },
  {
   "cell_type": "code",
   "execution_count": 23,
   "metadata": {},
   "outputs": [],
   "source": [
    "def get_errors_with_opt_const(X, y, num_exp = 1000, optimal_const = optimal_const):\n",
    "    errors = np.array([])\n",
    "    \n",
    "    for i in range(num_exp):\n",
    "        (X_train, X_test, y_train, y_test) = train_test_split(X, y, test_size = 0.3)\n",
    "        y_train = transform_area(y_train, optimal_const)\n",
    "        theta = optimal_parameters(X_train, y_train)\n",
    "        predictions = np.dot(X_test, theta)\n",
    "        inv_transform_predictions = np.exp(predictions) - optimal_const\n",
    "        errors = np.append(errors, mean_squared_error(y_test, inv_transform_predictions))\n",
    "    \n",
    "    return errors"
   ]
  },
  {
   "cell_type": "code",
   "execution_count": 24,
   "metadata": {},
   "outputs": [
    {
     "data": {
      "image/png": "[encoded data removed]",
      "text/plain": [
       "<Figure size 864x504 with 1 Axes>"
      ]
     },
     "metadata": {
      "needs_background": "light"
     },
     "output_type": "display_data"
    }
   ],
   "source": [
    "errors = get_errors_with_opt_const(X, y)\n",
    "\n",
    "plt.figure(figsize = (12, 7))\n",
    "plt.plot(errors, marker = 'o', linestyle = 'none', markersize = '5', alpha = 0.3, color = 'g', label = 'MSE')\n",
    "plt.title(r'Dependency of MSE from the split of the initial sample using the transformation with optimal constant value', fontsize = 18)\n",
    "plt.xlabel('Number of split', fontsize = 14)\n",
    "plt.ylabel('Mean squared error', fontsize = 14)\n",
    "plt.legend(fontsize = 14)\n",
    "plt.grid()\n",
    "plt.show()"
   ]
  },
  {
   "cell_type": "markdown",
   "metadata": {},
   "source": [
    "### Выводы"
   ]
  },
  {
   "cell_type": "markdown",
   "metadata": {},
   "source": [
    "<div style=\"text-align: justify\">\n",
    "Заметим, что как при применении преобразования признака area, так и без него, всегда получаем большую среднеквадратичную ошибку прогноза линейной регрессионной модели. При применении преобразования ошибка уменьшается, но незначительно. Среднеквадратичное отклонение получается больше, чем среднее значение целевого признака. Можно сказать, что линейная модель плохо применима для данной задачи. Также видим, что качество сильно зависит от разбиения выборки, что и логично, так как разбиения строятся случайно, то нет гарантий что-то какой-то конкретный объект попадает в обучающую или тестовую выборку. Из-за этого так сильно отличается качество. Часто применяется подход, называемый кросс-валидацией, для более правильной оценки работы алгоритма. В этом случае выборка делится на $k$ блоков примерно одинакового размера. Далее по очереди каждый из этих блоков используется в качестве тестового, а все остальные - в качестве обучающей выборки. Затем получаются $k$ показателей качества, и они усредняются.\n",
    "</div>"
   ]
  },
  {
   "cell_type": "markdown",
   "metadata": {},
   "source": [
    "## Задача 2"
   ]
  },
  {
   "cell_type": "markdown",
   "metadata": {},
   "source": [
    "Пусть $$X_i = \\beta_1+i\\beta_2+\\varepsilon_0+\\ldots+\\varepsilon_i,\\, i= 0, 1, \\ldots, n$$ - расстояния, которые проехал трамвай за $i$ секунд по показанию датчика. Здесь $\\beta_1$ - начальное расстояние, $\\beta_2$ - скорость трамвая, $\\varepsilon_0$ - ошибка начального показания датчика. Трамвай едет с постоянной скоростью, и через каждую секунду датчик фиксирует расстояние, которое проехал трамвай. Отсчет времени идет от предыдущего замера, причем отсчет происходит с ошибкой. Для $i = 1, \\ldots, n$ величина $\\varepsilon_i$ есть ошибка приращения расстояния, то есть $\\varepsilon_i = \\varepsilon_i^t \\beta_2,$ где $\\varepsilon_i^t$ - ошибка отсчета времени. Все ошибки $\\varepsilon_i$ независимы и распределены по закону $N(0, \\sigma^2)$. \n",
    "\n",
    "Сведите задачу к линейной модели и найдите оценки наименьших квадратов для начального расстояния $\\beta_1$ и скорости $\\beta_2,$ а также несмещенную оценку для $\\sigma^2,$ из которой выразите оценку дисперсии отсчета времени. \n",
    "\n",
    "Данные возьмите из файла Regression.csv. Сделайте выводы."
   ]
  },
  {
   "cell_type": "markdown",
   "metadata": {},
   "source": [
    "### Теоретическая часть и аналитическое решение задачи"
   ]
  },
  {
   "cell_type": "markdown",
   "metadata": {},
   "source": [
    "Рассмотрим величину $Y_{i} = X_{i} - X_{i - 1}, \\; Y_{0} = X_{0}$. Заметим, что $Y_{0} = \\beta_{1} + \\varepsilon_{0}, \\; Y_{i} = \\beta_{2} + \\varepsilon_{i}$. Тогда матрица базиса $Z$ имеет вид $Z = \\pmatrix{1\\;0 \\\\ 0\\;1 \\\\ 0\\;1 \\\\ \\ldots \\\\ 0\\;1}$, вектор $\\varepsilon = \\pmatrix{\\varepsilon_{0} \\\\ \\varepsilon_{1} \\\\ \\ldots \\\\ \\varepsilon_{n}}$. Имеем $Y = Z \\pmatrix{\\beta_{1} \\\\ \\beta_{2}} + \\varepsilon$. \n",
    "\n",
    "Тогда оценка наименьших квадратов для $\\beta_{1}$ и $\\beta_{2}$ равна $\\pmatrix{\\beta_{1} \\\\ \\beta_{2}} =(Z^{T}Z)^{-1}Z^{T} = \\pmatrix{Y_{0} \\\\ \\frac{Y_{1} + \\ldots + Y_{n}}{n}} = \\pmatrix{X_{0} \\\\ \\frac{X_{n} - X_{0}}{n}}$.\n",
    "\n",
    "Несмещенная оценка для $\\sigma^{2}$ равна $\\sigma^{2} = \\frac{1}{n - 1}\\|Y - Z\\theta^{*}\\|^{2} = \\frac{1}{n - 1}\\sum\\limits_{i = 1}^{n}{\\left((X_{i} - X_{i - 1}) - \\frac{X_{n} - X_{0}}{n}\\right)^{2}}$. \n",
    "\n",
    "Оценка дисперсии отсчета времени: $Var{(\\varepsilon^{t})} = \\frac{\\sigma^{2}}{\\beta_{2}^{2}}$."
   ]
  },
  {
   "cell_type": "markdown",
   "metadata": {},
   "source": [
    "### Решение задачи"
   ]
  },
  {
   "cell_type": "code",
   "execution_count": 25,
   "metadata": {},
   "outputs": [],
   "source": [
    "#загрузим данные из файла regression.csv\n",
    "data = np.genfromtxt('regression.csv')\n",
    "\n",
    "'''посчитаем оценку наименьших квадратов параметров beta_1 и beta_2, \n",
    "а также несмещенную оценку sigma_2 и оценку дисперсии отсчета времени'''\n",
    "\n",
    "n = data.size - 1\n",
    "beta_1 = data[0]\n",
    "beta_2 = (data[n] - data[0]) / n\n",
    "sigma_2 = 1. / (n - 1) * np.sum(np.array([(data[i] - data[i - 1] - beta_2) ** 2 for i in range(1, n + 1)]))\n",
    "time_var = sigma_2 / beta_2 ** 2"
   ]
  },
  {
   "cell_type": "code",
   "execution_count": 26,
   "metadata": {},
   "outputs": [
    {
     "name": "stdout",
     "output_type": "stream",
     "text": [
      "Оценка наименьших квадратов для начального расстояния: 82.0053\n",
      "Оценка наименьших квадратов для скорости: 11.970782983\n",
      "Несмещенная оценка дисперсии: 1.52524487161\n",
      "Оценка дисперсии отсчета времени: 0.0106437449249\n"
     ]
    }
   ],
   "source": [
    "print(\"Оценка наименьших квадратов для начального расстояния: {}\".format(beta_1))\n",
    "print(\"Оценка наименьших квадратов для скорости: {}\".format(beta_2))\n",
    "print(\"Несмещенная оценка дисперсии: {}\".format(sigma_2))\n",
    "print(\"Оценка дисперсии отсчета времени: {}\".format(time_var))"
   ]
  },
  {
   "cell_type": "markdown",
   "metadata": {},
   "source": [
    "### Выводы"
   ]
  },
  {
   "cell_type": "markdown",
   "metadata": {},
   "source": [
    "<div style=\"text-align: justify\">\n",
    "По оценкам можно сделать вывод, что показания датчика являются достаточно точными, так как оценка дисперсии приращения расстояния небольшая. Получили, что линейная модель хорошо применима для решения такой задачи. Также получено, что ошибка отсчета времени имеет малое значение.\n",
    "</div>"
   ]
  }
 ],
 "metadata": {
  "kernelspec": {
   "display_name": "Python 2",
   "language": "python",
   "name": "python2"
  },
  "language_info": {
   "codemirror_mode": {
    "name": "ipython",
    "version": 2
   },
   "file_extension": ".py",
   "mimetype": "text/x-python",
   "name": "python",
   "nbconvert_exporter": "python",
   "pygments_lexer": "ipython2",
   "version": "2.7.16"
  }
 },
 "nbformat": 4,
 "nbformat_minor": 2
}
