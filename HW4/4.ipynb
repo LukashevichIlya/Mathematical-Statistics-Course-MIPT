{
 "cells": [
  {
   "cell_type": "markdown",
   "metadata": {},
   "source": [
    "# Доверительные интервалы."
   ]
  },
  {
   "cell_type": "markdown",
   "metadata": {},
   "source": [
    "## Задача 1"
   ]
  },
  {
   "cell_type": "markdown",
   "metadata": {},
   "source": [
    "<div style=\"text-align: justify\">\n",
    "Сгенерируйте выборку $X_1, \\ldots,X_{100}$ из распределения $P_\\theta$ в теоретических задачах 6.1, 6.3, 6.4 и 6.5. В задачах 6.1, 6.3 и 6.4 возьмите $\\theta = 10,$ в задаче 6.5 возьмите $(\\theta, \\lambda) = (10, 3).$ Для уровня доверия $\\alpha = 0.95$ для всех $n \\leq 100$ постройте доверительные интервалы, полученные теоретических задачах. Изобразите их на графиках в координатах $(n, \\theta),$ используя matplotlib.pyplot.fill_between.\n",
    "</div>"
   ]
  },
  {
   "cell_type": "code",
   "execution_count": 1,
   "metadata": {},
   "outputs": [],
   "source": [
    "import numpy as np\n",
    "import matplotlib.pyplot as plt\n",
    "import scipy.stats as sts\n",
    "import math\n",
    "%matplotlib inline"
   ]
  },
  {
   "cell_type": "code",
   "execution_count": 2,
   "metadata": {},
   "outputs": [],
   "source": [
    "n = 100\n",
    "ns = np.arange(1, 101, 1)\n",
    "theta = 10\n",
    "lambda_param = 3.\n",
    "alpha = 0.95\n",
    "first_quantile = sts.norm.ppf((1 + alpha) / 2)\n",
    "second_quantile = sts.norm.ppf((1 - alpha) / 2)"
   ]
  },
  {
   "cell_type": "markdown",
   "metadata": {},
   "source": [
    "### Задача 6.1"
   ]
  },
  {
   "cell_type": "markdown",
   "metadata": {},
   "source": [
    "Пусть $X_{1}, \\ldots, X_{n}$ - выборка из равномерного распределения на отрезке $[0, \\theta], \\: \\theta > 0$. Постройте доверительный интервал для $\\theta$ уровня доверия $\\alpha$, используя статистику а) $\\overline{X}$, б) $X_{(1)}$, в) $X_{(n)}$."
   ]
  },
  {
   "cell_type": "code",
   "execution_count": 3,
   "metadata": {},
   "outputs": [],
   "source": [
    "#сгенерируем выборку из равномерного распределения на отрезке [0, theta]\n",
    "uniform_sample = sts.uniform.rvs(loc = 0, scale = theta, size = n)"
   ]
  },
  {
   "cell_type": "markdown",
   "metadata": {},
   "source": [
    "Для статистики $\\overline{X}$ доверительный интервал уровня доверия $\\alpha$: $T_{1}(X) = \\frac{2 \\overline{X} \\sqrt{3n(1 - \\alpha)}}{\\sqrt{3n(1 - \\alpha)} + 1}, \\: T_{2}(X) = \\frac{2 \\overline{X} \\sqrt{3n(1 - \\alpha)}}{\\sqrt{3n(1 - \\alpha)} - 1}$."
   ]
  },
  {
   "cell_type": "code",
   "execution_count": 4,
   "metadata": {},
   "outputs": [],
   "source": [
    "def interval_lower_bound_uniform_1(sample, size = None):\n",
    "    n = sample.shape[0]\n",
    "    if size is None:\n",
    "        return np.array([2 * sample[:k].mean() * np.sqrt(3 * k * (1 - alpha)) / (np.sqrt(3 * k * (1 - alpha)) + 1)\n",
    "                 for k in range(1, n + 1)])\n",
    "    else:\n",
    "        return 2 * sample[:(size)].mean() * np.sqrt(3 * size * (1 - alpha)) / (np.sqrt(3 * size * (1 - alpha)) + 1)\n",
    "\n",
    "def interval_upper_bound_uniform_1(sample, size = None):\n",
    "    n = sample.shape[0]\n",
    "    if size is None:\n",
    "        return np.array([2 * sample[:k].mean() * np.sqrt(3 * k * (1 - alpha)) / (np.sqrt(3 * k * (1 - alpha)) - 1)\n",
    "                 for k in range(1, n + 1)])\n",
    "    else:\n",
    "        return 2 * sample[:(size)].mean() * np.sqrt(3 * size * (1 - alpha)) / (np.sqrt(3 * size * (1 - alpha)) - 1)"
   ]
  },
  {
   "cell_type": "code",
   "execution_count": 5,
   "metadata": {},
   "outputs": [],
   "source": [
    "#найдем доверительный интервал для статистики\n",
    "T_1_a = interval_lower_bound_uniform_1(uniform_sample)\n",
    "T_2_a = interval_upper_bound_uniform_1(uniform_sample)"
   ]
  },
  {
   "cell_type": "markdown",
   "metadata": {},
   "source": [
    "Для статистики $X_{(1)}$ доверительный интервал уровня доверия $\\alpha$: $T_{1}(X) = X_{(1)}, \\: T_{2}(X) = \\frac{X_{(1)}}{1 - \\sqrt[n]{\\alpha}}$."
   ]
  },
  {
   "cell_type": "code",
   "execution_count": 6,
   "metadata": {},
   "outputs": [],
   "source": [
    "def interval_lower_bound_uniform_2(sample, size = None):\n",
    "    n = sample.shape[0]\n",
    "    if size is None:\n",
    "        return np.array([sample[:k].min() for k in range(1, n + 1)])\n",
    "    else:\n",
    "        return sample[:(size)].min()\n",
    "\n",
    "def interval_upper_bound_uniform_2(sample, size = None):\n",
    "    n = sample.shape[0]\n",
    "    if size is None:\n",
    "        return np.array([sample[:k].min() / (1 - alpha ** (1. / k)) for k in range(1, n + 1)])\n",
    "    else:\n",
    "        return sample[:(size)].min() / (1 - alpha ** (1. / size))"
   ]
  },
  {
   "cell_type": "code",
   "execution_count": 7,
   "metadata": {},
   "outputs": [],
   "source": [
    "#найдем доверительный интервал для статистики\n",
    "T_1_b = interval_lower_bound_uniform_2(uniform_sample)\n",
    "T_2_b = interval_upper_bound_uniform_2(uniform_sample)"
   ]
  },
  {
   "cell_type": "markdown",
   "metadata": {},
   "source": [
    "Для статистики $X_{(n)}$ доверительный интервал уровня доверия $\\alpha$: $T_{1}(X) = \\frac{(n + 1) X_{(n)}}{n + \\sqrt{\\frac{n}{(n + 2)(1 - \\alpha)}}}, \\: T_{2}(X) = \\frac{(n + 1) X_{(n)}}{n - \\sqrt{\\frac{n}{(n + 2)(1 - \\alpha)}}}$."
   ]
  },
  {
   "cell_type": "code",
   "execution_count": 8,
   "metadata": {},
   "outputs": [],
   "source": [
    "def interval_lower_bound_uniform_3(sample, size = None):\n",
    "    n = sample.shape[0]\n",
    "    if size is None:\n",
    "        return np.array([(k + 1) * sample[:k].max() / (k + np.sqrt(k / ((k + 2) * (1 - alpha)))) \n",
    "                 for k in range(1, n + 1)])\n",
    "    else:\n",
    "        return (size + 1) * sample[:(size + 1)].max() / (size + np.sqrt(size / ((size + 2) * (1 - alpha))))\n",
    "\n",
    "def interval_upper_bound_uniform_3(sample, size = None):\n",
    "    n = sample.shape[0]\n",
    "    if size is None:\n",
    "        return np.array([(k + 1) * sample[:k].max() / (k - np.sqrt(k / ((k + 2) * (1 - alpha)))) \n",
    "                 for k in range(1, n + 1)])\n",
    "    else:\n",
    "        return (size + 1) * sample[:(size)].max() / (size - np.sqrt(size / ((size + 2) * (1 - alpha)))) "
   ]
  },
  {
   "cell_type": "code",
   "execution_count": 9,
   "metadata": {},
   "outputs": [],
   "source": [
    "#найдем доверительный интервал для статистики\n",
    "T_1_c = interval_lower_bound_uniform_3(uniform_sample)\n",
    "T_2_c = interval_upper_bound_uniform_3(uniform_sample)"
   ]
  },
  {
   "cell_type": "code",
   "execution_count": 10,
   "metadata": {},
   "outputs": [
    {
     "data": {
      "image/png": "[encoded data removed]",
      "text/plain": [
       "<Figure size 864x504 with 1 Axes>"
      ]
     },
     "metadata": {
      "needs_background": "light"
     },
     "output_type": "display_data"
    }
   ],
   "source": [
    "plt.figure(figsize = (12, 7))\n",
    "plt.ylim(0, 20)\n",
    "plt.fill_between(ns, T_1_a, T_2_a, color = 'r', alpha = 0.5, label = r'$\\overline{X}$')\n",
    "plt.fill_between(ns, T_1_b, T_2_b, color = 'g', alpha = 0.5, label = r'$X_{(1)}$')\n",
    "plt.fill_between(ns, T_1_c, T_2_c, color = 'b', alpha = 0.5, label = r'$X_{(n)}$')\n",
    "plt.title(r'Confidence intervals for parameter $\\theta$ in uniform distribution with confidence level $\\alpha = 0.95$',\n",
    "         fontsize = 16)\n",
    "plt.xlabel('Sample size', fontsize = 14)\n",
    "plt.ylabel(r'$\\theta$', fontsize = 12)\n",
    "plt.legend(loc = 'best', prop = {'size': 12}, fontsize = 12)\n",
    "plt.grid()\n",
    "plt.show()"
   ]
  },
  {
   "cell_type": "markdown",
   "metadata": {},
   "source": [
    "### Задача 6.3"
   ]
  },
  {
   "cell_type": "markdown",
   "metadata": {},
   "source": [
    "Пусть $X_{1}, \\ldots, X_{n}$ - выборка из распределения Коши со сдвигом, т.е. \n",
    "$$p_{\\theta}(x) = \\frac{1}{\\pi (1 + (x - \\theta)^{2})}.$$\n",
    "Постройте асимптотический доверительный интервал для $\\theta$ уровня доверия $\\alpha$."
   ]
  },
  {
   "cell_type": "markdown",
   "metadata": {},
   "source": [
    "Асимптотический доверительный интервал для $\\theta$ уровня доверия $\\alpha$: $T_{1}^{(n)}(X_{1}, \\ldots, X_{n}) = \\overset{\\wedge}{\\mu} - \\frac{\\pi}{2 \\sqrt{n}} u_{\\frac{1 + \\alpha}{2}}, \\: T_{2}^{(n)}(X_{1}, \\ldots, X_{n}) = \\overset{\\wedge}{\\mu} + \\frac{\\pi}{2 \\sqrt{n}} u_{\\frac{1 + \\alpha}{2}}$."
   ]
  },
  {
   "cell_type": "code",
   "execution_count": 11,
   "metadata": {},
   "outputs": [],
   "source": [
    "cauchy_sample = sts.cauchy.rvs(loc = theta, size = n)"
   ]
  },
  {
   "cell_type": "code",
   "execution_count": 12,
   "metadata": {},
   "outputs": [],
   "source": [
    "def interval_lower_bound_cauchy(sample, size = None):\n",
    "    n = sample.shape[0]\n",
    "    if size is None:\n",
    "        return np.array([np.median(sample[:k]) - (np.pi * first_quantile) / (2 * np.sqrt(k)) \n",
    "                  for k in range(1, n + 1)])\n",
    "    else:\n",
    "        return np.median(sample[:(size)]) - (np.pi * first_quantile) / (2 * np.sqrt(size))\n",
    "\n",
    "def interval_upper_bound_cauchy(sample, size = None):\n",
    "    n = sample.shape[0]\n",
    "    if size is None:\n",
    "        return np.array([np.median(sample[:k]) + (np.pi * first_quantile) / (2 * np.sqrt(k)) \n",
    "                  for k in range(1, n + 1)])\n",
    "    else:\n",
    "        return np.median(sample[:(size)]) + (np.pi * first_quantile) / (2 * np.sqrt(size))"
   ]
  },
  {
   "cell_type": "code",
   "execution_count": 13,
   "metadata": {},
   "outputs": [],
   "source": [
    "T_1_cauchy = interval_lower_bound_cauchy(cauchy_sample)\n",
    "T_2_cauchy = interval_upper_bound_cauchy(cauchy_sample)"
   ]
  },
  {
   "cell_type": "code",
   "execution_count": 14,
   "metadata": {},
   "outputs": [
    {
     "data": {
      "image/png": "[encoded data removed]",
      "text/plain": [
       "<Figure size 864x504 with 1 Axes>"
      ]
     },
     "metadata": {
      "needs_background": "light"
     },
     "output_type": "display_data"
    }
   ],
   "source": [
    "plt.figure(figsize = (12, 7))\n",
    "plt.ylim(5, 15)\n",
    "plt.fill_between(ns, T_1_cauchy, T_2_cauchy, color = 'b', alpha = 0.5, label = r'$T_{2}^{(n)} - T_{1}^{(n)}$')\n",
    "plt.title(r'Asymptotic confidence interval for parameter $\\theta$ in Cauchy distribution with confidence level $\\alpha = 0.95$',\n",
    "         fontsize = 16)\n",
    "plt.xlabel('Sample size', fontsize = 14)\n",
    "plt.ylabel(r'$\\theta$', fontsize = 12)\n",
    "plt.legend(loc = 'best', prop = {'size': 12}, fontsize = 12)\n",
    "plt.grid()\n",
    "plt.show()"
   ]
  },
  {
   "cell_type": "markdown",
   "metadata": {},
   "source": [
    "### Задача 6.4"
   ]
  },
  {
   "cell_type": "markdown",
   "metadata": {},
   "source": [
    "Пусть $X_{1}, \\ldots, X_{n}$ - выборка из пуассоновского распределения с параметром $\\theta$. Постройте асимптотический доверительный интервал для $\\theta$ уровня доверия $\\alpha$."
   ]
  },
  {
   "cell_type": "markdown",
   "metadata": {},
   "source": [
    "Асимпототический доверительный интервал для $\\theta$ уровня доверия $\\alpha$: $T_{1}^{(n)}(X_{1}, \\ldots, X_{n}) = \\overline{X} - u_{\\frac{1 + \\alpha}{2}} \\sqrt{\\frac{\\overline{X}}{n}}, \\: T_{2}^{(n)}(X_{1}, \\ldots, X_{n}) = \\overline{X} - u_{\\frac{1 - \\alpha}{2}} \\sqrt{\\frac{\\overline{X}}{n}}$."
   ]
  },
  {
   "cell_type": "code",
   "execution_count": 15,
   "metadata": {},
   "outputs": [],
   "source": [
    "pois_sample = sts.poisson.rvs(mu = theta, size = n)"
   ]
  },
  {
   "cell_type": "code",
   "execution_count": 16,
   "metadata": {},
   "outputs": [],
   "source": [
    "def interval_lower_bound_pois(sample, size = None):\n",
    "    n = sample.shape[0]\n",
    "    if size is None:\n",
    "        return np.array([sample[:k].mean() - first_quantile * np.sqrt(sample[:k].mean() / k) \n",
    "                  for k in range(1, n + 1)])\n",
    "    else:\n",
    "        return sample[:(size)].mean() - first_quantile * np.sqrt(sample[:(size)].mean() / size) \n",
    "\n",
    "def interval_upper_bound_pois(sample, size = None):\n",
    "    n = sample.shape[0]\n",
    "    if size is None:\n",
    "        return np.array([sample[:k].mean() - second_quantile * np.sqrt(sample[:k].mean() / k) \n",
    "                  for k in range(1, n + 1)])\n",
    "    else:\n",
    "        return sample[:(size)].mean() - second_quantile * np.sqrt(sample[:(size)].mean() / size) "
   ]
  },
  {
   "cell_type": "code",
   "execution_count": 17,
   "metadata": {},
   "outputs": [],
   "source": [
    "T_1_pois = interval_lower_bound_pois(pois_sample)\n",
    "T_2_pois = interval_upper_bound_pois(pois_sample)"
   ]
  },
  {
   "cell_type": "code",
   "execution_count": 18,
   "metadata": {},
   "outputs": [
    {
     "data": {
      "image/png": "[encoded data removed]",
      "text/plain": [
       "<Figure size 864x504 with 1 Axes>"
      ]
     },
     "metadata": {
      "needs_background": "light"
     },
     "output_type": "display_data"
    }
   ],
   "source": [
    "plt.figure(figsize = (12, 7))\n",
    "plt.ylim(5, 15)\n",
    "plt.fill_between(ns, T_1_pois, T_2_pois, color = 'b', alpha = 0.5, label = r'$T_{2}^{(n)} - T_{1}^{(n)}$')\n",
    "plt.title(r'Asymptotic confidence interval for parameter $\\theta$ in Poisson distribution with confidence level $\\alpha = 0.95$',\n",
    "         fontsize = 16)\n",
    "plt.xlabel('Sample size', fontsize = 14)\n",
    "plt.ylabel(r'$\\theta$', fontsize = 12)\n",
    "plt.legend(loc = 'best', prop = {'size': 12}, fontsize = 12)\n",
    "plt.grid()\n",
    "plt.show()"
   ]
  },
  {
   "cell_type": "markdown",
   "metadata": {},
   "source": [
    "### Задача 6.5"
   ]
  },
  {
   "cell_type": "markdown",
   "metadata": {},
   "source": [
    "Пусть $X_{1}, \\ldots, X_{n}$ - выборка из гамма-распределения с параметрами $(\\theta, \\lambda)$. Постройте асимптотический доверительный интервал для $\\theta$ уровня доверия $\\alpha$, если а) $\\lambda$ известно, б) $\\lambda$ неизвестно."
   ]
  },
  {
   "cell_type": "markdown",
   "metadata": {},
   "source": [
    "Асимпотический доверительный интервал для $\\theta$ уровня доверия $\\alpha$, если $\\lambda$ известно: \n",
    "$$T_{1}^{(n)}(X_{1}, \\ldots, X_{n}) = \\frac{\\overline{X}}{\\lambda} \\left( 1 - \\frac{u_{\\frac{1 + \\alpha}{2}}}{\\sqrt{n \\lambda}} \\right), \\: T_{2}^{(n)}(X_{1}, \\ldots, X_{n}) = \\frac{\\overline{X}}{\\lambda} \\left( 1 - \\frac{u_{\\frac{1 - \\alpha}{2}}}{\\sqrt{n \\lambda}} \\right).$$"
   ]
  },
  {
   "cell_type": "markdown",
   "metadata": {},
   "source": [
    "Асимпотический доверительный интервал для $\\theta$ уровня доверия $\\alpha$, если $\\lambda$ неизвестно: \n",
    "$$T_{1}^{(n)}(X_{1}, \\ldots, X_{n}) = \\frac{\\text{Var}X}{\\overline{X}} \\left( 1 - \\frac{u_{\\frac{1 + \\alpha}{2}}}{\\overline{X}} \\sqrt{\\frac{\\text{Var}X}{n}} \\right), T_{2}^{(n)}(X_{1}, \\ldots, X_{n}) = \\frac{\\text{Var}X}{\\overline{X}} \\left( 1 - \\frac{u_{\\frac{1 - \\alpha}{2}}}{\\overline{X}} \\sqrt{\\frac{\\text{Var}X}{n}} \\right).$$"
   ]
  },
  {
   "cell_type": "code",
   "execution_count": 19,
   "metadata": {},
   "outputs": [],
   "source": [
    "gamma_sample = sts.gamma.rvs(a = lambda_param, scale = theta, size = n)"
   ]
  },
  {
   "cell_type": "code",
   "execution_count": 20,
   "metadata": {},
   "outputs": [],
   "source": [
    "def interval_lower_bound_gamma_known(sample, size = None):\n",
    "    n = sample.shape[0]\n",
    "    if size is None:\n",
    "        return np.array([sample[:k].mean() / lambda_param * (1 - first_quantile / np.sqrt(k * lambda_param)) \n",
    "                       for k in range(1, n + 1)])\n",
    "    else:\n",
    "        return (sample[:(size)].mean() / lambda_param * (1 - first_quantile / np.sqrt(size * lambda_param))) \n",
    "\n",
    "def interval_upper_bound_gamma_known(sample, size = None):\n",
    "    n = sample.shape[0]\n",
    "    if size is None:\n",
    "        return np.array([sample[:k].mean() / lambda_param * (1 - second_quantile / np.sqrt(k * lambda_param)) \n",
    "                       for k in range(1, n + 1)])\n",
    "    else:\n",
    "        return (sample[:(size)].mean() / lambda_param * (1 - second_quantile / np.sqrt(size * lambda_param))) "
   ]
  },
  {
   "cell_type": "code",
   "execution_count": 21,
   "metadata": {},
   "outputs": [],
   "source": [
    "def interval_lower_bound_gamma_unknown(sample, size = None):\n",
    "    n = sample.shape[0]\n",
    "    if size is None:\n",
    "        return np.array([sample[:k].var() / sample[:k].mean() * (1 - (first_quantile / sample[:k].mean()) * np.sqrt(sample[:k].var() / k)) \n",
    "                             for k in range(1, n + 1)])\n",
    "    else:\n",
    "        return (sample[:(size)].var() / sample[:(size)].mean() * (1 - (first_quantile / sample[:(size)].mean()) * np.sqrt(sample[:(size)].var() / size)))\n",
    "\n",
    "def interval_upper_bound_gamma_unknown(sample, size = None):\n",
    "    n = sample.shape[0]\n",
    "    if size is None:\n",
    "        return np.array([sample[:k].var() / sample[:k].mean() * (1 - (second_quantile / sample[:k].mean()) * np.sqrt(sample[:k].var() / k)) \n",
    "                             for k in range(1, n + 1)])\n",
    "    else:\n",
    "        return (sample[:(size)].var() / sample[:(size)].mean() * (1 - (second_quantile / sample[:(size)].mean()) * np.sqrt(sample[:(size)].var() / size)))"
   ]
  },
  {
   "cell_type": "code",
   "execution_count": 22,
   "metadata": {},
   "outputs": [],
   "source": [
    "T_1_gamma_a = interval_lower_bound_gamma_known(gamma_sample)\n",
    "T_2_gamma_a = interval_upper_bound_gamma_known(gamma_sample)"
   ]
  },
  {
   "cell_type": "code",
   "execution_count": 23,
   "metadata": {},
   "outputs": [],
   "source": [
    "T_1_gamma_b = interval_lower_bound_gamma_unknown(gamma_sample)\n",
    "T_2_gamma_b = interval_upper_bound_gamma_unknown(gamma_sample)"
   ]
  },
  {
   "cell_type": "code",
   "execution_count": 24,
   "metadata": {},
   "outputs": [
    {
     "data": {
      "image/png": "[encoded data removed]",
      "text/plain": [
       "<Figure size 864x504 with 1 Axes>"
      ]
     },
     "metadata": {
      "needs_background": "light"
     },
     "output_type": "display_data"
    }
   ],
   "source": [
    "plt.figure(figsize = (12, 7))\n",
    "plt.ylim(0, 20)\n",
    "plt.fill_between(ns, T_1_gamma_a, T_2_gamma_a, color = 'r', alpha = 0.5, label = r'known $\\lambda$')\n",
    "plt.fill_between(ns, T_1_gamma_b, T_2_gamma_b, color = 'b', alpha = 0.5, label = r'unknown $\\lambda$')\n",
    "plt.title(r'Confidence intervals for parameter $\\theta$ in gamma distribution with confidence level $\\alpha = 0.95$',\n",
    "         fontsize = 16)\n",
    "plt.xlabel('Sample size', fontsize = 14)\n",
    "plt.ylabel(r'$\\theta$', fontsize = 12)\n",
    "plt.legend(loc = 'best', prop = {'size': 12}, fontsize = 12)\n",
    "plt.grid()\n",
    "plt.show()"
   ]
  },
  {
   "cell_type": "markdown",
   "metadata": {},
   "source": [
    "### Выводы"
   ]
  },
  {
   "cell_type": "markdown",
   "metadata": {},
   "source": [
    "По построенным графикам можно сделать следующие выводы:  \n",
    "__Задача 6.1.__ Доверительные интервалы для параметра $\\theta$ в равномерном распределении, в которых были использованы статистики $\\overline{X}$ и $X_{(n)}$, с увеличением размера выборки $n$ сходятся к истинному значению параметра $\\theta = 10$, для статистики $X_{(1)}$ такого вывода сделать нельзя, так как сама оценка $X_{(1)}$ не является хорошей оценкой параметра $\\theta$.  \n",
    "__Задача 6.3.__ Построенный доверительный интервал для параметра $\\theta$ в распределении Коши со сдвигом с увеличением размера выборки сходится к истинному значению параметра $\\theta = 10$.  \n",
    "__Задача 6.4.__ Построенный доверительный интервал для параметра $\\theta$ в пуассоновском распределении с увеличением размера выборки сходится к истинному значению параметра $\\theta = 10$.  \n",
    "__Задача 6.5.__ Построенный доверительный интервал для параметра $\\theta$ в гамма-распределении при известном значении параметра $\\lambda$ с увеличением размера выборки сходится к истинному значению параметра $\\theta = 10$. Если считать параметр $\\lambda$ неизвестным, то построенный доверительный интервал не сходится так же, как и при известном $\\lambda$. Возможно, он изначально посчитан неверно."
   ]
  },
  {
   "cell_type": "markdown",
   "metadata": {},
   "source": [
    "## Задача 2"
   ]
  },
  {
   "cell_type": "markdown",
   "metadata": {},
   "source": [
    "<div style=\"text-align: justify\">\n",
    "Для $n = 100$ оцените вероятность попадания истинного значения $\\theta$ в интервал (в каждой задаче). Для этого сгенерируйте достаточно много выборок (предложите, сколько нужно выборок), постройте по каждой из них интервалы и определите, сколько раз в интервалы попадает истинное значение $\\theta.$ Таким способом будет построена бернуллиевская выборка, по ней оцените вероятность.\n",
    "</div>"
   ]
  },
  {
   "cell_type": "code",
   "execution_count": 25,
   "metadata": {},
   "outputs": [],
   "source": [
    "n = 100\n",
    "num_samples = 10000\n",
    "theta = 10."
   ]
  },
  {
   "cell_type": "code",
   "execution_count": 26,
   "metadata": {},
   "outputs": [],
   "source": [
    "def check_belonging_to_interval(theta, lower_bound, upper_bound):\n",
    "    return np.logical_and(theta >= lower_bound, theta <= upper_bound)"
   ]
  },
  {
   "cell_type": "code",
   "execution_count": 27,
   "metadata": {},
   "outputs": [],
   "source": [
    "def estimate_probability(flags):\n",
    "    print('Оценка вероятности попадания истинного значения параметра в доверительный интервал: {}'.format(np.mean(flags)))"
   ]
  },
  {
   "cell_type": "markdown",
   "metadata": {},
   "source": [
    "### Задача 6.1"
   ]
  },
  {
   "cell_type": "code",
   "execution_count": 28,
   "metadata": {},
   "outputs": [],
   "source": [
    "uniform_samples = sts.uniform.rvs(loc = 0, scale = theta, size = (num_samples, n))"
   ]
  },
  {
   "cell_type": "code",
   "execution_count": 29,
   "metadata": {},
   "outputs": [],
   "source": [
    "lower_1 = np.zeros(num_samples)\n",
    "lower_2 = np.zeros(num_samples)\n",
    "lower_3 = np.zeros(num_samples)\n",
    "upper_1 = np.zeros(num_samples)\n",
    "upper_2 = np.zeros(num_samples)\n",
    "upper_3 = np.zeros(num_samples)\n",
    "\n",
    "for i in range(num_samples):\n",
    "    lower_1[i] = interval_lower_bound_uniform_1(uniform_samples[i], size = n)\n",
    "    lower_2[i] = interval_lower_bound_uniform_2(uniform_samples[i], size = n)\n",
    "    lower_3[i] = interval_lower_bound_uniform_3(uniform_samples[i], size = n)\n",
    "    upper_1[i] = interval_upper_bound_uniform_1(uniform_samples[i], size = n)\n",
    "    upper_2[i] = interval_upper_bound_uniform_2(uniform_samples[i], size = n)\n",
    "    upper_3[i] = interval_upper_bound_uniform_3(uniform_samples[i], size = n)"
   ]
  },
  {
   "cell_type": "markdown",
   "metadata": {},
   "source": [
    "__Оценка__ $\\overline{X}$"
   ]
  },
  {
   "cell_type": "code",
   "execution_count": 30,
   "metadata": {},
   "outputs": [
    {
     "name": "stdout",
     "output_type": "stream",
     "text": [
      "Оценка вероятности попадания истинного значения параметра в доверительный интервал: 1.0\n"
     ]
    }
   ],
   "source": [
    "belonging_flags_1 = check_belonging_to_interval(theta, lower_1, upper_1)\n",
    "estimate_probability(belonging_flags_1)"
   ]
  },
  {
   "cell_type": "markdown",
   "metadata": {},
   "source": [
    "__Оценка__ $X_{(1)}$"
   ]
  },
  {
   "cell_type": "code",
   "execution_count": 31,
   "metadata": {},
   "outputs": [
    {
     "name": "stdout",
     "output_type": "stream",
     "text": [
      "Оценка вероятности попадания истинного значения параметра в доверительный интервал: 0.9532\n"
     ]
    }
   ],
   "source": [
    "belonging_flags_2 = check_belonging_to_interval(theta, lower_2, upper_2)\n",
    "estimate_probability(belonging_flags_2)"
   ]
  },
  {
   "cell_type": "markdown",
   "metadata": {},
   "source": [
    "__Оценка__ $X_{(n)}$"
   ]
  },
  {
   "cell_type": "code",
   "execution_count": 32,
   "metadata": {},
   "outputs": [
    {
     "name": "stdout",
     "output_type": "stream",
     "text": [
      "Оценка вероятности попадания истинного значения параметра в доверительный интервал: 0.9945\n"
     ]
    }
   ],
   "source": [
    "belonging_flags_3 = check_belonging_to_interval(theta, lower_3, upper_3)\n",
    "estimate_probability(belonging_flags_3)"
   ]
  },
  {
   "cell_type": "markdown",
   "metadata": {},
   "source": [
    "### Задача 6.3"
   ]
  },
  {
   "cell_type": "code",
   "execution_count": 33,
   "metadata": {},
   "outputs": [],
   "source": [
    "cauchy_samples = sts.cauchy.rvs(loc = theta, size = (num_samples, n))"
   ]
  },
  {
   "cell_type": "code",
   "execution_count": 34,
   "metadata": {},
   "outputs": [],
   "source": [
    "lower_bound = np.zeros(num_samples)\n",
    "upper_bound = np.zeros(num_samples)\n",
    "\n",
    "for i in range(num_samples):\n",
    "    lower_bound[i] = interval_lower_bound_cauchy(cauchy_samples[i], size = n)\n",
    "    upper_bound[i] = interval_upper_bound_cauchy(cauchy_samples[i], size = n)"
   ]
  },
  {
   "cell_type": "code",
   "execution_count": 35,
   "metadata": {},
   "outputs": [
    {
     "name": "stdout",
     "output_type": "stream",
     "text": [
      "Оценка вероятности попадания истинного значения параметра в доверительный интервал: 0.9449\n"
     ]
    }
   ],
   "source": [
    "belonging_flags = check_belonging_to_interval(theta, lower_bound, upper_bound)\n",
    "estimate_probability(belonging_flags)"
   ]
  },
  {
   "cell_type": "markdown",
   "metadata": {},
   "source": [
    "### Задача 6.4"
   ]
  },
  {
   "cell_type": "code",
   "execution_count": 36,
   "metadata": {},
   "outputs": [],
   "source": [
    "pois_samples = sts.poisson.rvs(mu = theta, size = (num_samples, n))"
   ]
  },
  {
   "cell_type": "code",
   "execution_count": 37,
   "metadata": {},
   "outputs": [],
   "source": [
    "lower_bound = np.zeros(num_samples)\n",
    "upper_bound = np.zeros(num_samples)\n",
    "\n",
    "for i in range(num_samples):\n",
    "    lower_bound[i] = interval_lower_bound_pois(pois_samples[i], size = n)\n",
    "    upper_bound[i] = interval_upper_bound_pois(pois_samples[i], size = n)"
   ]
  },
  {
   "cell_type": "code",
   "execution_count": 38,
   "metadata": {},
   "outputs": [
    {
     "name": "stdout",
     "output_type": "stream",
     "text": [
      "Оценка вероятности попадания истинного значения параметра в доверительный интервал: 0.9533\n"
     ]
    }
   ],
   "source": [
    "belonging_flags = check_belonging_to_interval(theta, lower_bound, upper_bound)\n",
    "estimate_probability(belonging_flags)"
   ]
  },
  {
   "cell_type": "markdown",
   "metadata": {},
   "source": [
    "### Задача 6.5"
   ]
  },
  {
   "cell_type": "code",
   "execution_count": 39,
   "metadata": {},
   "outputs": [],
   "source": [
    "gamma_samples = sts.gamma.rvs(a = lambda_param, scale = theta, size = (num_samples, n))"
   ]
  },
  {
   "cell_type": "markdown",
   "metadata": {},
   "source": [
    "__Параметр__ $\\lambda$ __известен__"
   ]
  },
  {
   "cell_type": "code",
   "execution_count": 40,
   "metadata": {},
   "outputs": [],
   "source": [
    "lower_bound = np.zeros(num_samples)\n",
    "upper_bound = np.zeros(num_samples)\n",
    "\n",
    "for i in range(num_samples):\n",
    "    lower_bound[i] = interval_lower_bound_gamma_known(gamma_samples[i], size = n)\n",
    "    upper_bound[i] = interval_upper_bound_gamma_known(gamma_samples[i], size = n)"
   ]
  },
  {
   "cell_type": "code",
   "execution_count": 41,
   "metadata": {},
   "outputs": [
    {
     "name": "stdout",
     "output_type": "stream",
     "text": [
      "Оценка вероятности попадания истинного значения параметра в доверительный интервал: 0.9467\n"
     ]
    }
   ],
   "source": [
    "belonging_flags = check_belonging_to_interval(theta, lower_bound, upper_bound)\n",
    "estimate_probability(belonging_flags)"
   ]
  },
  {
   "cell_type": "markdown",
   "metadata": {},
   "source": [
    "__Параметр__ $\\lambda$ __неизвестен__"
   ]
  },
  {
   "cell_type": "code",
   "execution_count": 42,
   "metadata": {},
   "outputs": [],
   "source": [
    "lower_bound = np.zeros(num_samples)\n",
    "upper_bound = np.zeros(num_samples)\n",
    "\n",
    "for i in range(num_samples):\n",
    "    lower_bound[i] = interval_lower_bound_gamma_unknown(gamma_samples[i], size = n)\n",
    "    upper_bound[i] = interval_upper_bound_gamma_unknown(gamma_samples[i], size = n)"
   ]
  },
  {
   "cell_type": "code",
   "execution_count": 43,
   "metadata": {},
   "outputs": [
    {
     "name": "stdout",
     "output_type": "stream",
     "text": [
      "Оценка вероятности попадания истинного значения параметра в доверительный интервал: 0.4851\n"
     ]
    }
   ],
   "source": [
    "belonging_flags = check_belonging_to_interval(theta, lower_bound, upper_bound)\n",
    "estimate_probability(belonging_flags)"
   ]
  },
  {
   "cell_type": "markdown",
   "metadata": {},
   "source": [
    "### Выводы"
   ]
  },
  {
   "cell_type": "markdown",
   "metadata": {},
   "source": [
    "<div style=\"text-align: justify\">\n",
    "При генерации $10000$ выборок значения вероятности попадания истинного значения параметра $\\theta$ в построенный доверительный интервал во всех задачах были приближенно равны $0.95$ или даже выше. Это говорит о том, что доверительные интервалы были построены верно, исходя из определения (уровень доверия был равен как раз $0.95$). Единственным исключением является интервал для параметра $\\theta$ в гамма-распределении при неизвестном значении $\\lambda$. Скорее всего доверительный интервал для такой ситуации построен неверно.\n",
    "</div>"
   ]
  }
 ],
 "metadata": {
  "kernelspec": {
   "display_name": "Python 2",
   "language": "python",
   "name": "python2"
  },
  "language_info": {
   "codemirror_mode": {
    "name": "ipython",
    "version": 2
   },
   "file_extension": ".py",
   "mimetype": "text/x-python",
   "name": "python",
   "nbconvert_exporter": "python",
   "pygments_lexer": "ipython2",
   "version": "2.7.16"
  }
 },
 "nbformat": 4,
 "nbformat_minor": 2
}
